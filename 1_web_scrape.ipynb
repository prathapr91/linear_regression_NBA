{
 "cells": [
  {
   "cell_type": "code",
   "execution_count": 2,
   "id": "45ffda4e-ae40-425c-ba18-4b9884b8bac4",
   "metadata": {},
   "outputs": [],
   "source": [
    "import requests, bs4\n",
    "from bs4 import BeautifulSoup as bs\n",
    "import pandas as pd"
   ]
  },
  {
   "cell_type": "markdown",
   "id": "5e805e2b-31cf-49c1-81c4-2e74b43ad661",
   "metadata": {},
   "source": [
    "Step 1: Loop through basketball-reference for per game data from 2018 - 2021"
   ]
  },
  {
   "cell_type": "code",
   "execution_count": 436,
   "id": "8315ca0c-d11d-4370-afb5-522817c597a5",
   "metadata": {},
   "outputs": [],
   "source": [
    "years = ['2018','2019','2020','2021']\n",
    "\n",
    "for i in years:\n",
    "    \n",
    "    #Extract URL for web-scraping\n",
    "    url=f'https://www.basketball-reference.com/leagues/NBA_{i}_per_game.html'\n",
    "    response = requests.get(url)\n",
    "    status = response.status_code\n",
    "    if status == 200:\n",
    "      page = response.text\n",
    "      soup = bs(page)\n",
    "    else:\n",
    "      print(f\"Oops! Received status code {status}\")\n",
    "    \n",
    "    #Generate column titles\n",
    "    headers = [th.getText() for th in soup.find('tr').findAll('th')]\n",
    "    headers.pop(0)\n",
    "    \n",
    "    #Get box score data\n",
    "    players = soup.find_all('tr')[1:]\n",
    "    stats_list = [[td.text for td in players[j].find_all('td')] for j in range(len(players))]\n",
    "    \n",
    "    #Convert to Pandas, export to csv\n",
    "    nba_box = pd.DataFrame(stats_list, columns = headers)\n",
    "    nba_box['YEAR'] = int(i)\n",
    "    nba_box.dropna(inplace=True)\n",
    "    nba_box.to_csv(f'data/nba_box_{i}.csv',index=False)\n"
   ]
  },
  {
   "cell_type": "markdown",
   "id": "a51cad8b-e9af-412c-9e35-08788ca56c3f",
   "metadata": {},
   "source": [
    "Step 2: basketball-reference per 100 possessions from 2018 - 2021"
   ]
  },
  {
   "cell_type": "code",
   "execution_count": 437,
   "id": "db6c8017-9f28-4088-974c-80c48d8c8e63",
   "metadata": {},
   "outputs": [],
   "source": [
    "years = ['2018','2019','2020','2021']\n",
    "\n",
    "for i in years:\n",
    "    \n",
    "    #Extract URL for web-scraping\n",
    "    url=f'https://www.basketball-reference.com/leagues/NBA_{i}_per_poss.html'\n",
    "    response = requests.get(url)\n",
    "    status = response.status_code\n",
    "    if status == 200:\n",
    "      page = response.text\n",
    "      soup = bs(page)\n",
    "    else:\n",
    "      print(f\"Oops! Received status code {status}\")\n",
    "    \n",
    "    #Generate column titles\n",
    "    headers = [th.getText() for th in soup.find('tr').findAll('th')]\n",
    "    headers.pop(0)\n",
    "    \n",
    "    #Get box score data\n",
    "    players = soup.find_all('tr')[1:]\n",
    "    stats_list = [[td.text for td in players[j].find_all('td')] for j in range(len(players))]\n",
    "    \n",
    "    #Convert to Pandas, export to csv\n",
    "    nba_per100 = pd.DataFrame(stats_list, columns = headers)\n",
    "    nba_per100['YEAR'] = int(i)\n",
    "    nba_per100.dropna(inplace=True)\n",
    "    nba_per100.drop(columns='',inplace=True)\n",
    "    nba_per100.to_csv(f'data/nba_per100_{i}.csv',index=False)"
   ]
  },
  {
   "cell_type": "markdown",
   "id": "f10c19bb-6b34-4824-ac81-387313ae127b",
   "metadata": {},
   "source": [
    "Step 3: ESPN Salary Data"
   ]
  },
  {
   "cell_type": "code",
   "execution_count": 438,
   "id": "937749b6-8a7f-400a-a708-f9446b3bfd63",
   "metadata": {
    "tags": []
   },
   "outputs": [
    {
     "name": "stderr",
     "output_type": "stream",
     "text": [
      "/var/folders/75/fwf63z_j1jvf891tg0n68jn80000gn/T/ipykernel_35641/539352140.py:24: FutureWarning: The default value of regex will change from True to False in a future version. In addition, single character regular expressions will *not* be treated as literal strings when regex=True.\n",
      "  salarydf['SALARY'] = salarydf['SALARY'].str.replace('$','')\n"
     ]
    }
   ],
   "source": [
    "years = ['2018','2019','2020','2021']\n",
    "for h in years:\n",
    "    master_salary_list = []\n",
    "    for i in range(1,16):\n",
    "\n",
    "        #Extract URL for web-scraping\n",
    "        url=f'http://www.espn.com/nba/salaries/_/year/{h}/page/{i}/seasontype/4'\n",
    "        response = requests.get(url)\n",
    "        status = response.status_code\n",
    "        if status == 200:\n",
    "          page = response.text\n",
    "          soup = bs(page)\n",
    "        else:\n",
    "          print(f\"Oops! Received status code {status}\")\n",
    "\n",
    "        #Generate headers\n",
    "        headers = [td.getText() for td in soup.find('table').find_all('tr')[0].findAll('td')]\n",
    "\n",
    "        #Generate salary list for respective page\n",
    "        x = soup.find('table').find_all('tr')\n",
    "        salary_list = [[td.text for td in x[j].find_all('td')] for j in range(len(x))]\n",
    "        master_salary_list += salary_list\n",
    "    \n",
    "    #Convert to dataframe and conduct initial cleaning\n",
    "    salarydf = pd.DataFrame(master_salary_list, columns = headers)\n",
    "    salarydf['SALARY'] = salarydf['SALARY'].str.replace('$','')\n",
    "    salarydf['SALARY'] = salarydf['SALARY'].str.replace(',','')\n",
    "    salarydf['NAME'] = salarydf['NAME'].str.split(',').str[0]\n",
    "    salarydf = salarydf[salarydf['RK'] != 'RK']\n",
    "    salarydf['YEAR'] = h\n",
    "    salarydf.to_csv(f'data/nba_salary_{h}.csv',index=False)"
   ]
  },
  {
   "cell_type": "code",
   "execution_count": null,
   "id": "d2e661de-4982-4665-861a-b26b916c109c",
   "metadata": {},
   "outputs": [],
   "source": []
  }
 ],
 "metadata": {
  "kernelspec": {
   "display_name": "Python [conda env:metis] *",
   "language": "python",
   "name": "conda-env-metis-py"
  },
  "language_info": {
   "codemirror_mode": {
    "name": "ipython",
    "version": 3
   },
   "file_extension": ".py",
   "mimetype": "text/x-python",
   "name": "python",
   "nbconvert_exporter": "python",
   "pygments_lexer": "ipython3",
   "version": "3.8.10"
  }
 },
 "nbformat": 4,
 "nbformat_minor": 5
}
